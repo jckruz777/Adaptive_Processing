{
 "cells": [
  {
   "cell_type": "markdown",
   "metadata": {},
   "source": [
    "**Instituto Tecnológico de Costa Rica**  \n",
    "**Maestría en Electrónica**  \n",
    "**MP6124. Procesamiento Adaptativo**    \n",
    "**Profesor:** Juan Pablo Soto Quirós  \n",
    "**Estudiantes:**  \n",
    "- Juan Carlos Cruz Naranjo  \n",
    "- Luis Alonso Murillo Rojas"
   ]
  },
  {
   "cell_type": "markdown",
   "metadata": {},
   "source": [
    "## EXAMEN FINAL\n",
    "\n",
    "### Problema 1.\n",
    "\n",
    "Sea $x=[x_1, x_2, \\dots , x_m]^{T}$ un vector de entradas constantes, donde $x_j\\in \\mathbb{R}$, para $j=1,2,\\cdots,m$. Considere el vector aleatorio de observación $\\textbf{y}=[\\textbf{y}_1, \\textbf{y}_2, \\dots, \\textbf{y}_m]^{T}$ de dimensión $m$, definido por:\n",
    "\n",
    "<center>$\n",
    "\\left\\{\n",
    "       \\begin{array}{ll}\n",
    "            \\textbf{y}_1 = s_1x_1+ \\textbf{v}_1\\\\\n",
    "            \\textbf{y}_k = \\sum_{i=1}^{k-1}s_ix_i+ \\textbf{v}_k\\\\\n",
    "       \\end{array}\n",
    "\\right.\n",
    "$</center>\n",
    "\n",
    "para $k = 2, 3,\\dots,m$, donde $s_j\\in \\mathbb{R}$, para $j=1,2,\\dots,m$ y $\\textbf{v}=[\\textbf{v}_1, \\textbf{v}_2, \\dots, \\textbf{v}_m]^{T}$ es un vector aleatorio de dimensión $m$, donde $\\textbf{v}_k$ representa ruido aditivo con media igual a $0$ y la varianza de cada entrada del vector $\\textbf{v}$ es constante, es decir, $\\sigma^{2}_{\\textbf{v}_1}=\\sigma^{2}_{\\textbf{v}_2}=\\dots=\\sigma^{2}_{\\textbf{v}_m}$. Además, $\\textbf{v}_1, \\textbf{v}_2, \\dots \\textbf{v}_m$ son ortogonales."
   ]
  },
  {
   "cell_type": "markdown",
   "metadata": {},
   "source": [
    "**(a)** Encuentre el estimador lineal $\\hat{\\textbf{x}}=K\\textbf{y}$ que estima el vector $x$, conociendo el vector aleatorio $\\textbf{y}$. Además, calcule la matriz de mínimo costo."
   ]
  },
  {
   "cell_type": "markdown",
   "metadata": {},
   "source": [
    "**(b)** Si $s_j=\\frac{j}{j+1}$, entonces determine el estimador lineal óptimo para el caso $m=3$ y $m=4$. Calcule la matriz de mínimo costo."
   ]
  },
  {
   "cell_type": "markdown",
   "metadata": {},
   "source": [
    "### Problema 2.\n",
    "\n",
    "Esta pregunta se basa en el artículo científicos _Distributed Estimation Using Reduced Dimensionality\n",
    "Sensor Observations_, desarrollado por los investigadores _Ioannis D. Schizas_, _Georgios B. Giannakis_\n",
    "y _Zhi-Quan Luo_ (Ver archivo con nombre _Artículo - Examen.pdf_).\n",
    "\n",
    "El artículo científico consiste en la estimación lineal de vectores aleatorios basadas en observaciones\n",
    "de dimensionalidad reducida recopiladas en sensores distribuidos y comunicadas a un centro de fusión\n",
    "a través de enlaces inalámbricos.\n",
    "\n",
    "El problema es el siguiente, determinar las matrices $B_j \\in \\mathbb{R}^{p\\times k_j}$ y $C_j \\in \\mathbb{R}^{k_j \\times N_j}$ para $j=1,2,\\dots,L$, que resuelven el problema de optimización:<br><br>\n",
    "\n",
    "<center>\n",
    "$\n",
    "\\underset{\\begin{matrix} \n",
    "B_1,\\dots,B_L \\\\\n",
    "C_1,\\dots,C_L \n",
    "\\end{matrix}}{min}\\mathbb{E}\\left[ ||\\textbf{s}-B_1C_1\\textbf{x}_1-\\dots-B_LC_L\\textbf{x}_L||^2 \\right]\n",
    "$\n",
    "</center>"
   ]
  },
  {
   "cell_type": "markdown",
   "metadata": {},
   "source": [
    "**(a)** ¿Qué representan los vectores aleatorios $s,x_1,\\dots,x_l$?"
   ]
  },
  {
   "cell_type": "markdown",
   "metadata": {},
   "source": [
    "**(b)** ¿Cuáles son los requerimientos que se asumen para la solución del problema **(1)**?"
   ]
  },
  {
   "cell_type": "markdown",
   "metadata": {},
   "source": [
    "**(c)** ¿Qué representan las matrices $B_j$ y $C_j$, para $j=1,2,\\dots,L$?"
   ]
  },
  {
   "cell_type": "markdown",
   "metadata": {},
   "source": [
    "**(d)** Realice un diagrama del problema **(1)**"
   ]
  },
  {
   "cell_type": "markdown",
   "metadata": {},
   "source": [
    "**(e)** En la sección _IV-B_, los autores dan solución al problema **(1)** para el caso $L=2$, a\n",
    "través de un método iterativo en el cual van actualizando las matrices $C_1$, $C_2$, $B_1$, $B_2$. Escriba\n",
    "un pseudocódigo que de solución al problema **(1)** cuando $L=2$. El pseudocódigo debe indicar los valores iniciales y los valores finales."
   ]
  },
  {
   "cell_type": "markdown",
   "metadata": {},
   "source": [
    "**(f)** Implemente computacionalmente, en un script con nombre $\\texttt{pregunta2}$, el método\n",
    "iterativo explicado en la sección _IV-B_ para resolver el problema **(1)** cuando $L = 2$, utilizando\n",
    "la siguiente información:<br><br>\n",
    "\n",
    "* $\\textbf{s}$ es un vector aleatorio de dimensión $30$, con una matriz de covarianza exponencial, con parámetros $\\rho=0.4$ y $\\sigma=2$ (ver documento _mc.pdf_).<br><br>\n",
    "\n",
    "* $\\textbf{x}_j=A_j\\textbf{s}_j+\\textbf{v}_j$, para $j = 1, 2$, donde:<br><br>\n",
    "\n",
    "  * $A_1$ y $A_2$ son matrices tridiagonales de dimensión $30\\times 30$, cuyas entradas diferentes de\n",
    "cero son generadas por una distribución normal (**Sugerencia:** utilizar comando $\\texttt{randn}$).<br><br>\n",
    "\n",
    "  * $\\textbf{v}_1$ y $\\textbf{v}_2$ son dos vectores aleatorios de dimensión $30$, cuyas matrices de covariancia están dadas por $R_{\\textbf{v}_1\\textbf{v}_1} = 0.25I_{30}$ y $R_{\\textbf{v}_2\\textbf{v}_2} = 0.75I_{30}$. Además, $\\textbf{s}$, $\\textbf{v}_1$ y $\\textbf{v}_2$ son ortogonales entre sí.<br><br>\n",
    "\n",
    "  * Las matrices iniciales $C_1$, $C_2$, $B_1$, $B_2$ son generadas aleatoriamente a través de una distribución uniforme en el intervalo $]0, 1[$. (**Sugerencia:** utilizar comando $\\texttt{rand}$).<br><br>\n",
    "\n",
    "  * Tolerancia dada por $\\epsilon = 10^{-4}$ y $1000$ iteraciones máximas. Si no se cumple la tolerancia después de $1000$ iteraciones, el script presenta los resultados obtenidos hasta el momento.<br><br>"
   ]
  },
  {
   "cell_type": "markdown",
   "metadata": {},
   "source": [
    "El script debe generar tres gráficas:<br><br>\n",
    "\n",
    "* La primera gráfica debe ser una gráfica de error versus iteraciones. El error se medirá utilizando la fórmula:<br><br>\n",
    "\n",
    "<center>\n",
    "$\n",
    "error^{(k)}=\\frac{1}{4}\\left( ||B_1^{(k)}-B_1^{(k-1)}||_{fr} + ||B_2^{(k)}-B_2^{(k-1)}||_{fr} + ||C_1^{(k)}-C_1^{(k-1)}||_{fr} + ||C_2^{(k)}-C_2^{(k-1)}||_{fr} \\right)\n",
    "$\n",
    "</center>\n",
    "\n",
    "donde $k$ representa la $k$-ésima iteración y $||\\cdot||_{fr}$ es la norma de Frobenius. Utilizar\n",
    "$k_1 = k_2 = 15$. El criterio de parada del método es cuando se cumpla $error^{(k)} < \\epsilon$."
   ]
  },
  {
   "cell_type": "markdown",
   "metadata": {},
   "source": [
    "* La segunda gráfica deber ser una gráfica de mínimo versus iteraciones. El mínimo se medirá utilizando la ecuación **(18)** del artículo. Utilizar $k_1 = k_2 = 15$."
   ]
  },
  {
   "cell_type": "markdown",
   "metadata": {},
   "source": [
    "* La tercera gráfica deber ser una gráfica de mínimo versus valor de $k = k_1 = k_2$, donde $k = 1,2,\\dots,30$. Utilizar $\\epsilon = 10^{−4}$ para cada valor de $k$."
   ]
  },
  {
   "cell_type": "markdown",
   "metadata": {},
   "source": [
    "Adicionalmente, deben presentar un documento escrito donde se indica la deducción de cada\n",
    "una de las matrices de covarianza."
   ]
  },
  {
   "cell_type": "code",
   "execution_count": 1,
   "metadata": {},
   "outputs": [],
   "source": [
    "import numpy as np"
   ]
  },
  {
   "cell_type": "code",
   "execution_count": 16,
   "metadata": {},
   "outputs": [],
   "source": [
    "def exponential_cov(rho, sigma, m):\n",
    "    R = np.zeros([m,m])\n",
    "    for i in range(m):\n",
    "        if i == m - 1:\n",
    "            R = R + np.eye(m, m, k = 0)\n",
    "            break\n",
    "            \n",
    "        index = i + 1\n",
    "        diagonal = m - index\n",
    "        R = R + (np.eye(m, m, k = diagonal) * pow(rho, m - index))\n",
    "        R = R + (np.eye(m, m, k = -1 * diagonal) * pow(rho, m - index))\n",
    "    \n",
    "    R = pow(sigma, 2) * R\n",
    "    return R"
   ]
  },
  {
   "cell_type": "code",
   "execution_count": 32,
   "metadata": {},
   "outputs": [],
   "source": [
    "# Condiciones iniciales\n",
    "k = 15\n",
    "m = 30\n",
    "rho = 0.4\n",
    "sigma = 2\n",
    "Rss = exponential_cov(rho, sigma, m)\n",
    "\n",
    "# matrices A1, A2 triangular superior\n",
    "A1 = np.triu(np.random.randn(m,m))\n",
    "A2 = np.triu(np.random.randn(m,m))\n",
    "\n",
    "Rv1v1 = 0.25 * np.ones([m, m])\n",
    "Rv2v2 = 0.75 * np.ones([m, m])\n",
    "\n",
    "B1 = np.random.rand(m, m)\n",
    "B2 = np.random.rand(m, m)\n",
    "C1 = np.random.rand(m, m)\n",
    "C2 = np.random.rand(m, m)"
   ]
  },
  {
   "cell_type": "code",
   "execution_count": 37,
   "metadata": {},
   "outputs": [],
   "source": [
    "# Calculo de las matrices de covarianza\n",
    "Rx1x1 = np.matmul(A1, np.matmul(Rss, np.conjugate(A1))) + Rv1v1\n",
    "Rx1x2 = np.matmul(A1, np.matmul(Rss, np.conjugate(A2)))\n",
    "Rx2x1 = np.matmul(A2, np.matmul(Rss, np.conjugate(A1)))\n",
    "Rx2x2 = np.matmul(A2, np.matmul(Rss, np.conjugate(A2))) + Rv2v2\n",
    "Rsx1 = np.matmul(Rss, np.conjugate(A1))\n",
    "Rsx2 = np.matmul(Rss, np.conjugate(A2))\n",
    "Rx1s = np.matmul(A1, Rss)\n",
    "Rx2s = np.matmul(A2, Rss)"
   ]
  },
  {
   "cell_type": "code",
   "execution_count": 41,
   "metadata": {},
   "outputs": [],
   "source": [
    "# Iteracion 0\n",
    "Rtmp = np.linalg.inv(np.matmul(C2, np.matmul(Rx2x2, np.transpose(C2))))\n",
    "\n",
    "Ree = Rx1x1 - np.matmul(Rx1x2, np.matmul(np.transpose(C2), np.matmul(Rtmp, np.matmul(C2, Rx2x1))))\n",
    "Rww = Rss - np.matmul(Rsx2, np.matmul(np.transpose(C2), np.matmul(Rtmp, np.matmul(C2, Rx2s))))\n",
    "Rwe = Rsx1 - np.matmul(Rsx2, np.matmul(np.transpose(C2), np.matmul(Rtmp, np.matmul(C2, Rx2x1))))"
   ]
  },
  {
   "cell_type": "code",
   "execution_count": 56,
   "metadata": {},
   "outputs": [],
   "source": [
    "eigen_values, eigen_vectors = np.linalg.eig(np.matmul(Rwe, np.matmul(np.linalg.inv(Ree), np.transpose(Rwe))))\n",
    "# Ordernar los eigen valores con los correspondiente eigen vectores\n",
    "idx = eigen_values.argsort()[::-1]   \n",
    "eigen_values = eigen_values[idx]\n",
    "eigen_vectors = eigen_vectors[:,idx]\n",
    "# Utilizar solo los k eigen valores mayores\n",
    "eigen_values = eigen_values[:k]\n",
    "eigen_vectors = eigen_vectors[:,:k]"
   ]
  },
  {
   "cell_type": "code",
   "execution_count": 73,
   "metadata": {},
   "outputs": [],
   "source": [
    "C1_tmp = np.matmul(np.transpose(eigen_vectors), np.matmul(Rwe, np.linalg.inv(Ree)))\n",
    "B1_tmp = eigen_vectors\n",
    "\n",
    "B2_1 = np.matmul(B1_tmp, np.matmul(C1_tmp, Rx1x2))\n",
    "B2_2 = np.linalg.inv(np.matmul(C2, np.matmul(Rx2x2, np.transpose(C2))))\n",
    "B2_tmp = np.matmul((Rsx2 - B2_1), np.matmul(np.transpose(C2), B2_2))"
   ]
  },
  {
   "cell_type": "code",
   "execution_count": null,
   "metadata": {},
   "outputs": [],
   "source": []
  }
 ],
 "metadata": {
  "kernelspec": {
   "display_name": "Python 3",
   "language": "python",
   "name": "python3"
  },
  "language_info": {
   "codemirror_mode": {
    "name": "ipython",
    "version": 3
   },
   "file_extension": ".py",
   "mimetype": "text/x-python",
   "name": "python",
   "nbconvert_exporter": "python",
   "pygments_lexer": "ipython3",
   "version": "3.7.3"
  }
 },
 "nbformat": 4,
 "nbformat_minor": 2
}
