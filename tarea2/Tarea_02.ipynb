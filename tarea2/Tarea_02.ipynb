{
 "cells": [
  {
   "cell_type": "markdown",
   "metadata": {},
   "source": [
    "**Instituto Tecnológico de Costa Rica**  \n",
    "**Maestría en Electrónica**  \n",
    "**MP6124. Procesamiento Adaptativo**    \n",
    "**Profesor:** Juan Pablo Soto Quirós  \n",
    "**Estudiantes:**  \n",
    "- Juan Carlos Cruz Naranjo  \n",
    "- Luis Alonso Murillo Rojas"
   ]
  },
  {
   "cell_type": "markdown",
   "metadata": {},
   "source": [
    "<center>$\\textbf{Tarea 2}$</center>\n",
    "\n",
    "#### Problema 1.\n",
    "Del libro _Fundamentals of Adaptive Filtering_ de Ali Sayed, implemente cada uno de los algoritmos de\n",
    "gradiente estocástico que se encuentran en la **Tabla 5.1.**, página 230. Cada uno de los algoritmos de la Tabla 5.1. da una aproximación a la solución del problema de optimización:  \n",
    "\n",
    "<center>$\\underset{w \\in \\mathbb{C}^{n}}{\\text{min}}\\mathbb{E}[|\\textbf{d-u}w|^{2}]$</center>\n",
    "\n",
    "donde $\\textbf{d}$ es una variable aleatoria, $\\textbf{u}$ es un vector fila aleatorio de tamaño _n_ y $w$ es un vector columna constante de tamaño _n_. Para la implementación de cada algoritmo, considere las siguientes indicaciones:\n",
    "- Cada algoritmo debe ser implementado como una función.\n",
    "- Los parámetros iniciales de cada función son los siguientes:\n",
    " - Observaciones de la variable aleatoria $\\textbf{d}$ que se representan en el vector $d=[d_0\\text{ }d_1\\text{ }...\\text{ }d_{s−1}]\\in \\mathbb{C}^{s}$, donde $d_j \\in \\mathbb{C}$ es la observación $j$ de $\\textbf{d}$.  \n",
    " - Observaciones del vector aleatorio $\\textbf{u}$, que se representan en la matriz $U= \n",
    "\\begin{bmatrix} \n",
    "u_0 \\\\\n",
    "\\vdots \\\\\n",
    "u_{s-1}\n",
    "\\end{bmatrix} \\in \\mathbb{C}^{s\\times n}$, donde $u_j \\in \\mathbb{C}^{n}$ es la observación $j$ de $\\textbf{u}$.\n",
    "\n",
    " - Vector inicial $w^{(−1)} \\in \\mathbb{C}^m$, el cual es un vector columna.\n",
    " - Tolerancia $tol > 0$ para el criterio de parada.\n",
    " - Iteraciones máximas $iterMax > 0$.\n",
    "- Los parámetros finales son el número de iteraciones $k$ y el vector $w^{(k)}$ que aproxima la solución del problema (1).\n",
    "- Utilice nombres significativos para definir cada una de las funciones.\n",
    "- El criterio de parada de cada algoritmo será la condición $||w^{(k)} - w^{(k−1)}||_2 < tol$ o cuando el número de iteraciones es mayor a $iterMax$.\n",
    "\n",
    "- En el método LMS con tamaño de paso variante, puede utilizar como tamaño de paso $\\mu_i = \\frac{2}{1+i}$ en cada iteración. Si considera oportuno, puede utilizar otro tamaño de paso. De ser así, debe justificar porque seleccionó otro tamaño de paso $\\mu_i$.\n",
    "- Cada método debe generar dos gráficas: una de iteraciones versus error y otra de iteraciones versus valor mínimo. El error se medirá con el criterio $e_k = ||w^{(k)} - w^{(k−1)}||_2$ y el valor mínimo se medirá con el criterio:\n",
    "\n",
    "<center>$m_k = \\hat{R}_{d_kd_k}-\\left(\\hat{R}_{d_ku_k}\\right)^{*}w^{(k)}-\\left(w^{(k)}\\right)^{*}\\hat{R}_{d_ku_k} + \\left(w^{(k)}\\right)^{*}\\hat{R}_{u_ku_k}w^{(k)}$</center>\n",
    "\n",
    "\n",
    "Donde $\\hat{R}_{d_kd_k}=d_k(d_k)^*$, $\\hat{R}_{d_ku_k}=d_k(u_k)^*$ y $\\hat{R}_{u_ku_k}=(u_k)^*u_k$."
   ]
  },
  {
   "cell_type": "code",
   "execution_count": null,
   "metadata": {},
   "outputs": [],
   "source": []
  }
 ],
 "metadata": {
  "kernelspec": {
   "display_name": "Python 3",
   "language": "python",
   "name": "python3"
  },
  "language_info": {
   "codemirror_mode": {
    "name": "ipython",
    "version": 3
   },
   "file_extension": ".py",
   "mimetype": "text/x-python",
   "name": "python",
   "nbconvert_exporter": "python",
   "pygments_lexer": "ipython3",
   "version": "3.7.2"
  }
 },
 "nbformat": 4,
 "nbformat_minor": 2
}
